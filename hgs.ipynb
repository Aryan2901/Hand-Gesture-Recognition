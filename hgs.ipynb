{
  "cells": [
    {
      "cell_type": "code",
      "execution_count": null,
      "metadata": {
        "id": "XD-4QokwTLPp"
      },
      "outputs": [],
      "source": [
        "import tensorflow as tf\n",
        "\n",
        "\n",
        "from tensorflow import keras\n",
        "# from tensorflow.keras import layers\n",
        "# from tensorflow.keras.models import Sequential\n",
        "\n",
        "import os\n",
        "import tqdm\n",
        "import numpy as np\n",
        "import pandas as \n",
        "from sklearn.model_selection import train_test_split\n",
        "import cv2\n",
        "import matplotlib.pyplot as plt"
      ]
    },
    {
      "cell_type": "code",
      "execution_count": null,
      "metadata": {
        "id": "4bFZGo_yTLR7"
      },
      "outputs": [],
      "source": [
        "data_directory_pre = '../Gesture Image Pre-Processed Data'"
      ]
    },
    {
      "cell_type": "code",
      "execution_count": null,
      "metadata": {
        "id": "VwAth-JmTLUf"
      },
      "outputs": [],
      "source": [
        "img_labels = [i for i in os.listdir(data_directory_pre)]\n",
        "img_labels.sort()\n",
        "print(img_labels)\n"
      ]
    },
    {
      "cell_type": "code",
      "execution_count": null,
      "metadata": {
        "id": "xMvfLX0eTLW-"
      },
      "outputs": [],
      "source": [
        "path0='../Gesture Image Pre-Processed Data/2/1.jpg'\n",
        "image=cv2.imread(path0)\n",
        "print(image.shape)\n",
        "plt.imshow(image)"
      ]
    },
    {
      "cell_type": "code",
      "execution_count": null,
      "metadata": {
        "id": "wt9J3msgTwzC"
      },
      "outputs": [],
      "source": [
        "def plot_sample(a, b, index):\n",
        "    plt.figure(figsize = (15,2))\n",
        "    plt.imshow(a[index])\n",
        "    plt.xlabel(img_labels[b[index]])"
      ]
    },
    {
      "cell_type": "code",
      "execution_count": null,
      "metadata": {
        "id": "Q6copywcTi7z"
      },
      "outputs": [],
      "source": [
        "dataset_img_pre=[]\n",
        "img_value_pre=[]\n",
        "# img_labels=\n",
        "count=0\n",
        "for name in img_labels:\n",
        "    path=os.path.join(data_directory_pre,name)\n",
        "    # print(path)\n",
        "    for im in os.listdir(path):\n",
        "      # print(path,im)\n",
        "        image=cv2.imread(os.path.join(path,im))\n",
        "        dataset_img_pre+=[image]\n",
        "        img_value_pre+=[count]\n",
        "    count=count+1"
      ]
    },
    {
      "cell_type": "code",
      "execution_count": null,
      "metadata": {
        "id": "irPNiGkiTi-K"
      },
      "outputs": [],
      "source": [
        "plot_sample(dataset_img_pre,img_value_pre,15964)"
      ]
    },
    {
      "cell_type": "code",
      "execution_count": null,
      "metadata": {
        "id": "bRwZx0_LTjAj"
      },
      "outputs": [],
      "source": [
        "img_dataset_pre=np.array(dataset_img_pre)\n",
        "img_value_pre=np.array(img_value_pre)\n",
        "# converting to np arrays"
      ]
    },
    {
      "cell_type": "code",
      "execution_count": null,
      "metadata": {
        "id": "6Xu_6IXETjC-"
      },
      "outputs": [],
      "source": [
        "x_train_pre , x_test_pre, y_train_pre, y_test_pre = train_test_split(img_dataset_pre,img_value_pre, test_size=0.2, random_state=42)\n",
        "# splitting"
      ]
    },
    {
      "cell_type": "code",
      "execution_count": null,
      "metadata": {
        "id": "799cwcqWTjFX"
      },
      "outputs": [],
      "source": [
        "plot_sample(x_train_pre,y_train_pre,1256)\n"
      ]
    },
    {
      "cell_type": "code",
      "execution_count": null,
      "metadata": {
        "id": "AXvNZcZVTjHz"
      },
      "outputs": [],
      "source": [
        "x_train=x_train_pre/255.0\n",
        "x_test=x_test_pre/255.0"
      ]
    },
    {
      "cell_type": "code",
      "execution_count": null,
      "metadata": {
        "id": "XXZ26Rg3TjKa"
      },
      "outputs": [],
      "source": [
        "# data augmentation\n",
        "dataAugmentation = tf.keras.Sequential([\n",
        "    tf.keras.layers.RandomRotation(0.1),\n",
        "    tf.keras.layers.RandomZoom(0.2),\n",
        "    tf.keras.layers.RandomFlip(\"horizontal\", input_shape=(50,50,3)),\n",
        "])"
      ]
    },
    {
      "cell_type": "code",
      "execution_count": null,
      "metadata": {
        "id": "H10EWXc1TjMl"
      },
      "outputs": [],
      "source": [
        "# creating the model \n",
        "hgrmodel_pre = tf.keras.models.Sequential([\n",
        "        dataAugmentation,\n",
        "        tf.keras.layers.Conv2D(32,3, padding='same',activation='relu'),\n",
        "        tf.keras.layers.MaxPooling2D(),\n",
        "    \n",
        "        tf.keras.layers.Conv2D(64,3, padding='same',activation='relu'),\n",
        "        tf.keras.layers.MaxPooling2D(),\n",
        "\n",
        "        tf.keras.layers.Dropout(0.2),\n",
        "    \n",
        "        tf.keras.layers.Conv2D(64,2, padding='valid',activation='relu'),\n",
        "        tf.keras.layers.MaxPooling2D(),\n",
        "    \n",
        "        # tf.keras.layers.Dropout(0.2),\n",
        "    \n",
        "        tf.keras.layers.Flatten(),\n",
        "        tf.keras.layers.Dense(128, activation='relu'),\n",
        "        tf.keras.layers.Dense(37, activation='softmax')\n",
        "])\n",
        "\n",
        "hgrmodel_pre.compile(optimizer='adam',\n",
        "        loss='sparse_categorical_crossentropy',        \n",
        "        metrics=['accuracy'])"
      ]
    },
    {
      "cell_type": "code",
      "execution_count": null,
      "metadata": {
        "id": "oBx5LngUTjOR"
      },
      "outputs": [],
      "source": [
        "hgrmodel_pre.summary()"
      ]
    },
    {
      "cell_type": "code",
      "execution_count": null,
      "metadata": {
        "id": "xyzxj1GRUgUG"
      },
      "outputs": [],
      "source": [
        "tf.config.experimental.list_physical_devices()"
      ]
    },
    {
      "cell_type": "code",
      "execution_count": null,
      "metadata": {
        "id": "ZcRedCnVTjQ2"
      },
      "outputs": [],
      "source": [
        "# creating the model \n",
        "# %%timeit -n1 -r1\n",
        "with tf.device('/GPU:0'):\n",
        "    hgrmodel_pre.fit(x_train_pre,y_train_pre, epochs=10)"
      ]
    },
    {
      "cell_type": "code",
      "execution_count": null,
      "metadata": {
        "id": "KDVcMltaUb1p"
      },
      "outputs": [],
      "source": [
        "hgrmodel_pre.evaluate(x_test_pre, y_test_pre)"
      ]
    },
    {
      "cell_type": "code",
      "execution_count": null,
      "metadata": {
        "id": "yA4N9UAyUb53"
      },
      "outputs": [],
      "source": [
        "hgrmodel_pre.save('hgrmodel_pre.h5')\n"
      ]
    },
    {
      "cell_type": "code",
      "execution_count": null,
      "metadata": {
        "id": "sjRbxrfcUb8P"
      },
      "outputs": [],
      "source": []
    },
    {
      "cell_type": "code",
      "execution_count": null,
      "metadata": {
        "id": "WFdG5jFcUb-s"
      },
      "outputs": [],
      "source": []
    },
    {
      "cell_type": "code",
      "execution_count": null,
      "metadata": {
        "id": "E6zvvaO8UcA-"
      },
      "outputs": [],
      "source": []
    },
    {
      "cell_type": "code",
      "execution_count": null,
      "metadata": {
        "id": "SBqJ18szUcC8"
      },
      "outputs": [],
      "source": []
    }
  ],
  "metadata": {
    "accelerator": "GPU",
    "colab": {
      "provenance": []
    },
    "gpuClass": "standard",
    "kernelspec": {
      "display_name": "Python 3",
      "name": "python3"
    },
    "language_info": {
      "name": "python"
    }
  },
  "nbformat": 4,
  "nbformat_minor": 0
}
